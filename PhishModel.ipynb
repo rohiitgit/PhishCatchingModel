{
  "cells": [
    {
      "cell_type": "code",
      "execution_count": 97,
      "metadata": {
        "id": "LeK4xLg-2yCl"
      },
      "outputs": [],
      "source": [
        "#import pandas and read the dataset\n",
        "\n",
        "import pandas as pd\n",
        "data = pd.read_csv('dataset.csv')"
      ]
    },
    {
      "cell_type": "code",
      "execution_count": 98,
      "metadata": {
        "id": "vaNuiQYf3er2"
      },
      "outputs": [],
      "source": [
        "#filter rows with missing values\n",
        "data = data.dropna(axis=0)"
      ]
    },
    {
      "cell_type": "code",
      "execution_count": 99,
      "metadata": {},
      "outputs": [
        {
          "data": {
            "text/plain": [
              "Index(['id', 'NumDots', 'SubdomainLevel', 'PathLevel', 'UrlLength', 'NumDash',\n",
              "       'NumDashInHostname', 'AtSymbol', 'TildeSymbol', 'NumUnderscore',\n",
              "       'NumPercent', 'NumQueryComponents', 'NumAmpersand', 'NumHash',\n",
              "       'NumNumericChars', 'NoHttps', 'RandomString', 'IpAddress',\n",
              "       'DomainInSubdomains', 'DomainInPaths', 'HttpsInHostname',\n",
              "       'HostnameLength', 'PathLength', 'QueryLength', 'DoubleSlashInPath',\n",
              "       'NumSensitiveWords', 'EmbeddedBrandName', 'PctExtHyperlinks',\n",
              "       'PctExtResourceUrls', 'ExtFavicon', 'InsecureForms',\n",
              "       'RelativeFormAction', 'ExtFormAction', 'AbnormalFormAction',\n",
              "       'PctNullSelfRedirectHyperlinks', 'FrequentDomainNameMismatch',\n",
              "       'FakeLinkInStatusBar', 'RightClickDisabled', 'PopUpWindow',\n",
              "       'SubmitInfoToEmail', 'IframeOrFrame', 'MissingTitle',\n",
              "       'ImagesOnlyInForm', 'SubdomainLevelRT', 'UrlLengthRT',\n",
              "       'PctExtResourceUrlsRT', 'AbnormalExtFormActionR', 'ExtMetaScriptLinkRT',\n",
              "       'PctExtNullSelfRedirectHyperlinksRT', 'CLASS_LABEL'],\n",
              "      dtype='object')"
            ]
          },
          "execution_count": 99,
          "metadata": {},
          "output_type": "execute_result"
        }
      ],
      "source": [
        "data.columns"
      ]
    },
    {
      "cell_type": "code",
      "execution_count": 100,
      "metadata": {
        "id": "SJGhyIuP70Ue"
      },
      "outputs": [],
      "source": [
        "#select features to work with\n",
        "data_features = ['NumDots', 'SubdomainLevel', 'PathLevel', 'UrlLength', 'NumDash',\n",
        "       'NumDashInHostname', 'AtSymbol', 'TildeSymbol', 'NumUnderscore',\n",
        "       'NumPercent', 'NumQueryComponents', 'NumAmpersand', 'NumHash',\n",
        "       'NumNumericChars', 'NoHttps', 'RandomString', 'IpAddress',\n",
        "       'DomainInSubdomains', 'DomainInPaths', 'HttpsInHostname',\n",
        "       'HostnameLength', 'PathLength', 'QueryLength', 'DoubleSlashInPath',\n",
        "       'NumSensitiveWords', 'EmbeddedBrandName', 'PctExtHyperlinks',\n",
        "       'PctExtResourceUrls', 'ExtFavicon', 'InsecureForms',\n",
        "       'RelativeFormAction', 'ExtFormAction', 'AbnormalFormAction',\n",
        "       'PctNullSelfRedirectHyperlinks', 'FrequentDomainNameMismatch',\n",
        "       'FakeLinkInStatusBar', 'RightClickDisabled', 'PopUpWindow',\n",
        "       'SubmitInfoToEmail', 'IframeOrFrame', 'MissingTitle',\n",
        "       'ImagesOnlyInForm', 'SubdomainLevelRT', 'UrlLengthRT',\n",
        "       'PctExtResourceUrlsRT', 'AbnormalExtFormActionR', 'ExtMetaScriptLinkRT',\n",
        "       'PctExtNullSelfRedirectHyperlinksRT']\n",
        "X = data[data_features]"
      ]
    },
    {
      "cell_type": "code",
      "execution_count": 101,
      "metadata": {
        "id": "nzgshUes_Cwv"
      },
      "outputs": [],
      "source": [
        "#Choosing target\n",
        "y = data.CLASS_LABEL"
      ]
    },
    {
      "cell_type": "code",
      "execution_count": 102,
      "metadata": {},
      "outputs": [],
      "source": [
        "#splitting data into training and validation data\n",
        "\n",
        "from sklearn.model_selection import train_test_split\n",
        "\n",
        "train_X, val_X, train_y, val_y = train_test_split(X,y, random_state=0)"
      ]
    },
    {
      "cell_type": "code",
      "execution_count": 106,
      "metadata": {},
      "outputs": [],
      "source": [
        "# defining a function to try different approaches to deal with missing values\n",
        "\n",
        "from sklearn.ensemble import RandomForestRegressor\n",
        "from sklearn.metrics import mean_absolute_error\n",
        "\n",
        "def score_dataset(train_X, val_X, train_y, val_y):\n",
        "    model = RandomForestRegressor(n_estimators=100, random_state=0)\n",
        "    model.fit(train_X, train_y)\n",
        "    preds = model.predict(val_X)\n",
        "    return mean_absolute_error(val_y, preds)"
      ]
    },
    {
      "cell_type": "code",
      "execution_count": 108,
      "metadata": {},
      "outputs": [
        {
          "name": "stdout",
          "output_type": "stream",
          "text": [
            "MAE from Approach 1 (Drop columns with missing values): \n",
            "0.041784\n"
          ]
        }
      ],
      "source": [
        "#APPROACH 1: MISSING VALUES DROPPED\n",
        "\n",
        "#defining a list of columns with missing values\n",
        "\n",
        "cols_with_missing = [col for col in train_X.columns\n",
        "                     if train_X[col].isnull().any()]\n",
        "\n",
        "#dropping columns with missing values in training and validation data\n",
        "reduced_X_train = train_X.drop(cols_with_missing, axis = 1)\n",
        "reduced_X_valid = val_X.drop(cols_with_missing, axis = 1)\n",
        "\n",
        "print(\"MAE from Approach 1 (Drop columns with missing values): \")\n",
        "print(score_dataset(reduced_X_train, reduced_X_valid, train_y, val_y))\n"
      ]
    },
    {
      "cell_type": "code",
      "execution_count": 109,
      "metadata": {},
      "outputs": [
        {
          "name": "stdout",
          "output_type": "stream",
          "text": [
            "MAE from Approach 2 (Imputation): \n",
            "0.041784\n"
          ]
        }
      ],
      "source": [
        "#APPROACH 2: IMPUTATION\n",
        "\n",
        "from sklearn.impute import SimpleImputer\n",
        "\n",
        "my_imputer = SimpleImputer()\n",
        "\n",
        "imputed_X_train = pd.DataFrame(my_imputer.fit_transform(train_X))\n",
        "imputed_X_valid = pd.DataFrame(my_imputer.transform(val_X))\n",
        "\n",
        "print(\"MAE from Approach 2 (Imputation): \")\n",
        "print(score_dataset(imputed_X_train, imputed_X_valid, train_y, val_y))"
      ]
    }
  ],
  "metadata": {
    "colab": {
      "provenance": []
    },
    "kernelspec": {
      "display_name": "Python 3",
      "name": "python3"
    },
    "language_info": {
      "codemirror_mode": {
        "name": "ipython",
        "version": 3
      },
      "file_extension": ".py",
      "mimetype": "text/x-python",
      "name": "python",
      "nbconvert_exporter": "python",
      "pygments_lexer": "ipython3",
      "version": "3.12.0"
    }
  },
  "nbformat": 4,
  "nbformat_minor": 0
}
