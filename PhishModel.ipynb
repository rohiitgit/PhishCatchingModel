{
  "cells": [
    {
      "cell_type": "code",
      "execution_count": 303,
      "metadata": {
        "colab": {
          "base_uri": "https://localhost:8080/"
        },
        "id": "joMPbpXO_f0d",
        "outputId": "a22bdd77-be8e-4c3c-e82b-9cd0affbb3e3"
      },
      "outputs": [
        {
          "name": "stdout",
          "output_type": "stream",
          "text": [
            "Drive already mounted at /content/drive; to attempt to forcibly remount, call drive.mount(\"/content/drive\", force_remount=True).\n"
          ]
        }
      ],
      "source": [
        "from google.colab import drive\n",
        "drive.mount('/content/drive')"
      ]
    },
    {
      "cell_type": "code",
      "execution_count": 304,
      "metadata": {
        "id": "LeK4xLg-2yCl"
      },
      "outputs": [],
      "source": [
        "#import pandas and read the dataset\n",
        "\n",
        "import pandas as pd\n",
        "data = pd.read_csv('/content/drive/MyDrive/PhishingDetectionModel/Phishing Detection Model/dataset.csv')"
      ]
    },
    {
      "cell_type": "code",
      "execution_count": 305,
      "metadata": {
        "id": "vaNuiQYf3er2"
      },
      "outputs": [],
      "source": [
        "#filter rows with missing values\n",
        "data = data.dropna(axis=0)"
      ]
    },
    {
      "cell_type": "code",
      "execution_count": 306,
      "metadata": {
        "colab": {
          "base_uri": "https://localhost:8080/"
        },
        "id": "vB3AVrQr_M4C",
        "outputId": "bea3ebb0-1cdb-433d-d286-883bedc9e72c"
      },
      "outputs": [
        {
          "data": {
            "text/plain": [
              "Index(['id', 'NumDots', 'SubdomainLevel', 'PathLevel', 'UrlLength', 'NumDash',\n",
              "       'NumDashInHostname', 'AtSymbol', 'TildeSymbol', 'NumUnderscore',\n",
              "       'NumPercent', 'NumQueryComponents', 'NumAmpersand', 'NumHash',\n",
              "       'NumNumericChars', 'NoHttps', 'RandomString', 'IpAddress',\n",
              "       'DomainInSubdomains', 'DomainInPaths', 'HttpsInHostname',\n",
              "       'HostnameLength', 'PathLength', 'QueryLength', 'DoubleSlashInPath',\n",
              "       'NumSensitiveWords', 'EmbeddedBrandName', 'PctExtHyperlinks',\n",
              "       'PctExtResourceUrls', 'ExtFavicon', 'InsecureForms',\n",
              "       'RelativeFormAction', 'ExtFormAction', 'AbnormalFormAction',\n",
              "       'PctNullSelfRedirectHyperlinks', 'FrequentDomainNameMismatch',\n",
              "       'FakeLinkInStatusBar', 'RightClickDisabled', 'PopUpWindow',\n",
              "       'SubmitInfoToEmail', 'IframeOrFrame', 'MissingTitle',\n",
              "       'ImagesOnlyInForm', 'SubdomainLevelRT', 'UrlLengthRT',\n",
              "       'PctExtResourceUrlsRT', 'AbnormalExtFormActionR', 'ExtMetaScriptLinkRT',\n",
              "       'PctExtNullSelfRedirectHyperlinksRT', 'CLASS_LABEL'],\n",
              "      dtype='object')"
            ]
          },
          "execution_count": 306,
          "metadata": {},
          "output_type": "execute_result"
        }
      ],
      "source": [
        "data.columns"
      ]
    },
    {
      "cell_type": "code",
      "execution_count": 307,
      "metadata": {
        "id": "SJGhyIuP70Ue"
      },
      "outputs": [],
      "source": [
        "#select features to work with\n",
        "features = ['NumDots', 'SubdomainLevel', 'PathLevel', 'UrlLength', 'NumDash',\n",
        "       'NumDashInHostname', 'AtSymbol', 'TildeSymbol', 'NumUnderscore',\n",
        "       'NumPercent', 'NumQueryComponents', 'NumAmpersand', 'NumHash',\n",
        "       'NumNumericChars', 'NoHttps', 'RandomString', 'IpAddress',\n",
        "       'DomainInSubdomains', 'DomainInPaths', 'HttpsInHostname',\n",
        "       'HostnameLength', 'PathLength', 'QueryLength', 'DoubleSlashInPath',\n",
        "       'NumSensitiveWords', 'EmbeddedBrandName', 'PctExtHyperlinks',\n",
        "       'PctExtResourceUrls', 'ExtFavicon', 'InsecureForms',\n",
        "       'RelativeFormAction', 'ExtFormAction', 'AbnormalFormAction',\n",
        "       'PctNullSelfRedirectHyperlinks', 'FrequentDomainNameMismatch',\n",
        "       'FakeLinkInStatusBar', 'RightClickDisabled', 'PopUpWindow',\n",
        "       'SubmitInfoToEmail', 'IframeOrFrame', 'MissingTitle',\n",
        "       'ImagesOnlyInForm', 'SubdomainLevelRT', 'UrlLengthRT',\n",
        "       'PctExtResourceUrlsRT', 'AbnormalExtFormActionR', 'ExtMetaScriptLinkRT',\n",
        "       'PctExtNullSelfRedirectHyperlinksRT']\n",
        "\n",
        "X = data[features]\n",
        "\n",
        "#Choosing target label\n",
        "y = data.CLASS_LABEL"
      ]
    },
    {
      "cell_type": "code",
      "execution_count": 308,
      "metadata": {
        "id": "afwcvOgM_M4E"
      },
      "outputs": [],
      "source": [
        "#importing required libraries\n",
        "from sklearn.preprocessing import StandardScaler\n",
        "from sklearn.model_selection import train_test_split\n",
        "\n",
        "#shuffling the data\n",
        "\n",
        "from sklearn.utils import shuffle\n",
        "\n",
        "X, y = shuffle(X, y, random_state=42)\n",
        "\n",
        "#Scaling the data\n",
        "scaler = StandardScaler()\n",
        "X = scaler.fit_transform(X)\n",
        "\n",
        "#splitting the data into train and test sets\n",
        "train_X, val_X, train_y, val_y = train_test_split(X, y, test_size=0.2, random_state=42)"
      ]
    },
    {
      "cell_type": "markdown",
      "metadata": {
        "id": "1C51aUskuJaL"
      },
      "source": [
        "**Importing Models**"
      ]
    },
    {
      "cell_type": "code",
      "execution_count": 309,
      "metadata": {
        "id": "IF6mSofQu_nB"
      },
      "outputs": [],
      "source": [
        "import keras\n",
        "import tensorflow as tf\n",
        "\n",
        "from sklearn.ensemble import RandomForestClassifier, GradientBoostingClassifier\n",
        "\n",
        "from sklearn.svm import SVC\n",
        "\n",
        "from sklearn.linear_model import LogisticRegression"
      ]
    },
    {
      "cell_type": "code",
      "execution_count": 310,
      "metadata": {
        "id": "G3xRpeJk_M4E"
      },
      "outputs": [],
      "source": [
        "# NN Model\n",
        "base_model_1 = keras.Sequential()\n",
        "\n",
        "#Random Forest Model\n",
        "base_model_2 = RandomForestClassifier(n_estimators=100, max_depth=10, random_state=42)\n",
        "\n",
        "#Gradient Boosting Model\n",
        "base_model_3 = GradientBoostingClassifier(n_estimators=70, learning_rate=0.1, max_depth=5, random_state=12)\n",
        "\n",
        "#SVC Model\n",
        "base_model_4 = SVC(probability=True, random_state=10, C=1.0, kernel='rbf')  # SVC with probability=True\n",
        "\n",
        "#Logistic Regression\n",
        "base_model_5 = LogisticRegression(random_state=52, C=6, max_iter=500)"
      ]
    },
    {
      "cell_type": "code",
      "execution_count": 311,
      "metadata": {
        "colab": {
          "base_uri": "https://localhost:8080/",
          "height": 387
        },
        "id": "jsESOGc-uksW",
        "outputId": "b7683554-873a-42f7-ab7c-2b82d3d48dfd"
      },
      "outputs": [
        {
          "name": "stdout",
          "output_type": "stream",
          "text": [
            "Epoch 1/9\n",
            "250/250 [==============================] - 2s 3ms/step - loss: 0.2780 - accuracy: 0.8934 - val_loss: 0.1534 - val_accuracy: 0.9435\n",
            "Epoch 2/9\n",
            "250/250 [==============================] - 1s 3ms/step - loss: 0.1295 - accuracy: 0.9516 - val_loss: 0.1269 - val_accuracy: 0.9525\n",
            "Epoch 3/9\n",
            "250/250 [==============================] - 1s 5ms/step - loss: 0.1046 - accuracy: 0.9611 - val_loss: 0.1204 - val_accuracy: 0.9535\n",
            "Epoch 4/9\n",
            "250/250 [==============================] - 1s 4ms/step - loss: 0.0894 - accuracy: 0.9670 - val_loss: 0.1090 - val_accuracy: 0.9585\n",
            "Epoch 5/9\n",
            "250/250 [==============================] - 1s 4ms/step - loss: 0.0782 - accuracy: 0.9720 - val_loss: 0.1026 - val_accuracy: 0.9585\n",
            "Epoch 6/9\n",
            "250/250 [==============================] - 1s 4ms/step - loss: 0.0697 - accuracy: 0.9761 - val_loss: 0.0951 - val_accuracy: 0.9665\n",
            "Epoch 7/9\n",
            "250/250 [==============================] - 1s 3ms/step - loss: 0.0631 - accuracy: 0.9786 - val_loss: 0.0985 - val_accuracy: 0.9650\n",
            "Epoch 8/9\n",
            "250/250 [==============================] - 1s 2ms/step - loss: 0.0545 - accuracy: 0.9816 - val_loss: 0.0950 - val_accuracy: 0.9675\n",
            "Epoch 9/9\n",
            "250/250 [==============================] - 1s 3ms/step - loss: 0.0501 - accuracy: 0.9826 - val_loss: 0.0926 - val_accuracy: 0.9670\n"
          ]
        },
        {
          "data": {
            "text/html": [
              "<style>#sk-container-id-23 {color: black;background-color: white;}#sk-container-id-23 pre{padding: 0;}#sk-container-id-23 div.sk-toggleable {background-color: white;}#sk-container-id-23 label.sk-toggleable__label {cursor: pointer;display: block;width: 100%;margin-bottom: 0;padding: 0.3em;box-sizing: border-box;text-align: center;}#sk-container-id-23 label.sk-toggleable__label-arrow:before {content: \"▸\";float: left;margin-right: 0.25em;color: #696969;}#sk-container-id-23 label.sk-toggleable__label-arrow:hover:before {color: black;}#sk-container-id-23 div.sk-estimator:hover label.sk-toggleable__label-arrow:before {color: black;}#sk-container-id-23 div.sk-toggleable__content {max-height: 0;max-width: 0;overflow: hidden;text-align: left;background-color: #f0f8ff;}#sk-container-id-23 div.sk-toggleable__content pre {margin: 0.2em;color: black;border-radius: 0.25em;background-color: #f0f8ff;}#sk-container-id-23 input.sk-toggleable__control:checked~div.sk-toggleable__content {max-height: 200px;max-width: 100%;overflow: auto;}#sk-container-id-23 input.sk-toggleable__control:checked~label.sk-toggleable__label-arrow:before {content: \"▾\";}#sk-container-id-23 div.sk-estimator input.sk-toggleable__control:checked~label.sk-toggleable__label {background-color: #d4ebff;}#sk-container-id-23 div.sk-label input.sk-toggleable__control:checked~label.sk-toggleable__label {background-color: #d4ebff;}#sk-container-id-23 input.sk-hidden--visually {border: 0;clip: rect(1px 1px 1px 1px);clip: rect(1px, 1px, 1px, 1px);height: 1px;margin: -1px;overflow: hidden;padding: 0;position: absolute;width: 1px;}#sk-container-id-23 div.sk-estimator {font-family: monospace;background-color: #f0f8ff;border: 1px dotted black;border-radius: 0.25em;box-sizing: border-box;margin-bottom: 0.5em;}#sk-container-id-23 div.sk-estimator:hover {background-color: #d4ebff;}#sk-container-id-23 div.sk-parallel-item::after {content: \"\";width: 100%;border-bottom: 1px solid gray;flex-grow: 1;}#sk-container-id-23 div.sk-label:hover label.sk-toggleable__label {background-color: #d4ebff;}#sk-container-id-23 div.sk-serial::before {content: \"\";position: absolute;border-left: 1px solid gray;box-sizing: border-box;top: 0;bottom: 0;left: 50%;z-index: 0;}#sk-container-id-23 div.sk-serial {display: flex;flex-direction: column;align-items: center;background-color: white;padding-right: 0.2em;padding-left: 0.2em;position: relative;}#sk-container-id-23 div.sk-item {position: relative;z-index: 1;}#sk-container-id-23 div.sk-parallel {display: flex;align-items: stretch;justify-content: center;background-color: white;position: relative;}#sk-container-id-23 div.sk-item::before, #sk-container-id-23 div.sk-parallel-item::before {content: \"\";position: absolute;border-left: 1px solid gray;box-sizing: border-box;top: 0;bottom: 0;left: 50%;z-index: -1;}#sk-container-id-23 div.sk-parallel-item {display: flex;flex-direction: column;z-index: 1;position: relative;background-color: white;}#sk-container-id-23 div.sk-parallel-item:first-child::after {align-self: flex-end;width: 50%;}#sk-container-id-23 div.sk-parallel-item:last-child::after {align-self: flex-start;width: 50%;}#sk-container-id-23 div.sk-parallel-item:only-child::after {width: 0;}#sk-container-id-23 div.sk-dashed-wrapped {border: 1px dashed gray;margin: 0 0.4em 0.5em 0.4em;box-sizing: border-box;padding-bottom: 0.4em;background-color: white;}#sk-container-id-23 div.sk-label label {font-family: monospace;font-weight: bold;display: inline-block;line-height: 1.2em;}#sk-container-id-23 div.sk-label-container {text-align: center;}#sk-container-id-23 div.sk-container {/* jupyter's `normalize.less` sets `[hidden] { display: none; }` but bootstrap.min.css set `[hidden] { display: none !important; }` so we also need the `!important` here to be able to override the default hidden behavior on the sphinx rendered scikit-learn.org. See: https://github.com/scikit-learn/scikit-learn/issues/21755 */display: inline-block !important;position: relative;}#sk-container-id-23 div.sk-text-repr-fallback {display: none;}</style><div id=\"sk-container-id-23\" class=\"sk-top-container\"><div class=\"sk-text-repr-fallback\"><pre>LogisticRegression(C=6, max_iter=500, random_state=52)</pre><b>In a Jupyter environment, please rerun this cell to show the HTML representation or trust the notebook. <br />On GitHub, the HTML representation is unable to render, please try loading this page with nbviewer.org.</b></div><div class=\"sk-container\" hidden><div class=\"sk-item\"><div class=\"sk-estimator sk-toggleable\"><input class=\"sk-toggleable__control sk-hidden--visually\" id=\"sk-estimator-id-23\" type=\"checkbox\" checked><label for=\"sk-estimator-id-23\" class=\"sk-toggleable__label sk-toggleable__label-arrow\">LogisticRegression</label><div class=\"sk-toggleable__content\"><pre>LogisticRegression(C=6, max_iter=500, random_state=52)</pre></div></div></div></div></div>"
            ],
            "text/plain": [
              "LogisticRegression(C=6, max_iter=500, random_state=52)"
            ]
          },
          "execution_count": 311,
          "metadata": {},
          "output_type": "execute_result"
        }
      ],
      "source": [
        "# Add input layer\n",
        "base_model_1.add(keras.layers.Input(shape=(train_X.shape[1],)))\n",
        "\n",
        "# Add hidden layers\n",
        "base_model_1.add(keras.layers.Dense(64, activation='relu'))\n",
        "base_model_1.add(keras.layers.Dense(32, activation='relu'))\n",
        "\n",
        "# Add output layer\n",
        "base_model_1.add(keras.layers.Dense(1, activation='sigmoid'))\n",
        "\n",
        "# Compile the model\n",
        "base_model_1.compile(optimizer='adam', loss='binary_crossentropy', metrics=['accuracy'])\n",
        "\n",
        "# Fit the NN Model\n",
        "base_model_1.fit(train_X, train_y, epochs=9, batch_size=32, validation_data=(val_X, val_y))\n",
        "\n",
        "# Fit the Random Forest Model\n",
        "base_model_2.fit(train_X, train_y)\n",
        "\n",
        "# Fit the Gradient Boosting Model\n",
        "base_model_3.fit(train_X, train_y)\n",
        "\n",
        "# Fit the SVC Model\n",
        "base_model_4.fit(train_X, train_y)\n",
        "\n",
        "# Fit the Logistic Regression Model\n",
        "base_model_5.fit(train_X, train_y)"
      ]
    },
    {
      "cell_type": "code",
      "execution_count": 312,
      "metadata": {
        "colab": {
          "base_uri": "https://localhost:8080/"
        },
        "id": "MvCJ8Pqn2fUU",
        "outputId": "1f94cf8a-3dbb-4d96-95bf-a4345d78f96f"
      },
      "outputs": [
        {
          "name": "stdout",
          "output_type": "stream",
          "text": [
            "63/63 [==============================] - 0s 2ms/step\n"
          ]
        }
      ],
      "source": [
        "# Make predictions using your base classifiers\n",
        "pred1 = base_model_1.predict(val_X)\n",
        "pred2 = base_model_2.predict(val_X)\n",
        "pred3 = base_model_3.predict(val_X)\n",
        "pred4 = base_model_4.predict(val_X)\n",
        "pred5 = base_model_5.predict(val_X)"
      ]
    },
    {
      "cell_type": "code",
      "execution_count": 313,
      "metadata": {
        "colab": {
          "base_uri": "https://localhost:8080/"
        },
        "id": "CkQnbJZpi8ub",
        "outputId": "54143716-2d92-41f0-9e1e-730aeaba4ef9"
      },
      "outputs": [
        {
          "name": "stdout",
          "output_type": "stream",
          "text": [
            "Base Model 1 Accuracy: 96.70%\n",
            "Base Model 2 Accuracy: 97.40%\n",
            "Base Model 3 Accuracy: 98.30%\n",
            "Base Model 4 Accuracy: 96.15%\n",
            "Base Model 5 Accuracy: 94.05%\n",
            "\n",
            "Accuracy Scores:\n",
            "Base Model 1: 96.70%\n",
            "Base Model 2: 97.40%\n",
            "Base Model 3: 98.30%\n",
            "Base Model 4: 96.15%\n",
            "Base Model 5: 94.05%\n"
          ]
        }
      ],
      "source": [
        "from sklearn.metrics import accuracy_score\n",
        "\n",
        "# Define a threshold to convert probabilities to binary predictions\n",
        "threshold = 0.5\n",
        "\n",
        "# Calculate and display the accuracy score for each base model\n",
        "accuracy_scores = []\n",
        "\n",
        "models = [\"Base Model 1\", \"Base Model 2\", \"Base Model 3\", \"Base Model 4\", \"Base Model 5\"]\n",
        "predictions = [pred1, pred2, pred3, pred4, pred5]\n",
        "\n",
        "for model_name, predictions in zip(models, predictions):\n",
        "    binary_predictions = (predictions > threshold).astype(int)\n",
        "    accuracy = accuracy_score(val_y, binary_predictions)\n",
        "    accuracy_scores.append((model_name, accuracy))\n",
        "    print(f'{model_name} Accuracy: {accuracy * 100:.2f}%')\n",
        "\n",
        "# Display the accuracy scores for each model\n",
        "print(\"\\nAccuracy Scores:\")\n",
        "for model_name, accuracy in accuracy_scores:\n",
        "    print(f'{model_name}: {accuracy * 100:.2f}%')\n"
      ]
    },
    {
      "cell_type": "code",
      "execution_count": 314,
      "metadata": {
        "id": "qsBxAgAXLlxh"
      },
      "outputs": [],
      "source": [
        "# Define the weights for each base classifier\n",
        "weights = [0.3, 0.4, 0.3, 0.2, 0.5]\n",
        "\n",
        "# Calculate the weighted sum of predictions\n",
        "weighted_predictions = (weights[0] * pred1 + weights[1] * pred2 + weights[2] * pred3 + weights[3] * pred4 + weights[4] * pred5)"
      ]
    },
    {
      "cell_type": "code",
      "execution_count": 315,
      "metadata": {
        "colab": {
          "base_uri": "https://localhost:8080/"
        },
        "id": "T6MiJpxFMYIo",
        "outputId": "ba02050d-38b8-4f5a-99db-a7d01868fa02"
      },
      "outputs": [
        {
          "name": "stdout",
          "output_type": "stream",
          "text": [
            "63/63 [==============================] - 0s 2ms/step\n"
          ]
        }
      ],
      "source": [
        "# Calculate the probability of the positive class for each base model\n",
        "probs1 = base_model_1.predict(val_X).flatten()  # For neural network\n",
        "probs2 = base_model_2.predict_proba(val_X)[:, 1]  # For Random Forest\n",
        "probs3 = base_model_3.predict_proba(val_X)[:, 1]  # For Gradient Boosting\n",
        "probs4 = base_model_4.predict_proba(val_X)[:, 1]  # For SVC\n",
        "probs5 = base_model_5.predict_proba(val_X)[:, 1]  # For Logistic Regression\n",
        "\n",
        "# Calculate the weighted sum of probabilities\n",
        "weighted_probabilities = (weights[0] * probs1 + weights[1] * probs2 + weights[2] * probs3 + weights[3] * probs4 + weights[4] * probs5)\n",
        "\n",
        "# Choose a threshold to convert the weighted sum into binary predictions\n",
        "threshold = 0.5\n",
        "final_binary_predictions = (weighted_probabilities > threshold).astype(int)\n"
      ]
    },
    {
      "cell_type": "code",
      "execution_count": 316,
      "metadata": {
        "colab": {
          "base_uri": "https://localhost:8080/"
        },
        "id": "URklQ8zGz_WV",
        "outputId": "0a6343b6-c436-46fc-a0c4-7304b3827564"
      },
      "outputs": [
        {
          "name": "stdout",
          "output_type": "stream",
          "text": [
            "Shape of weighted_predictions: (2000, 2000)\n"
          ]
        }
      ],
      "source": [
        "print(\"Shape of weighted_predictions:\", weighted_predictions.shape)\n"
      ]
    },
    {
      "cell_type": "code",
      "execution_count": 317,
      "metadata": {
        "colab": {
          "base_uri": "https://localhost:8080/"
        },
        "id": "sVNvjYNgwMHe",
        "outputId": "ea040849-b5f9-434e-bc07-64fd415655d8"
      },
      "outputs": [
        {
          "name": "stdout",
          "output_type": "stream",
          "text": [
            "val_y unique values: [0 1]\n",
            "val_y data type: <class 'pandas.core.series.Series'>\n",
            "final_binary_predictions unique values: [0 1]\n",
            "final_binary_predictions data type: <class 'numpy.ndarray'>\n"
          ]
        }
      ],
      "source": [
        "import numpy as np\n",
        "\n",
        "print(\"val_y unique values:\", np.unique(val_y))\n",
        "print(\"val_y data type:\", type(val_y))\n",
        "print(\"final_binary_predictions unique values:\", np.unique(final_binary_predictions))\n",
        "print(\"final_binary_predictions data type:\", type(final_binary_predictions))\n"
      ]
    },
    {
      "cell_type": "code",
      "execution_count": 318,
      "metadata": {
        "colab": {
          "base_uri": "https://localhost:8080/"
        },
        "id": "ldWFABO8yPE5",
        "outputId": "7efbcb5c-c817-49c8-e2d9-84deeea52631"
      },
      "outputs": [
        {
          "name": "stdout",
          "output_type": "stream",
          "text": [
            "Ensemble Accuracy: 96.55%\n"
          ]
        }
      ],
      "source": [
        "# Check the shape of val_y and final_binary_predictions\n",
        "if val_y.shape == final_binary_predictions.shape:\n",
        "    accuracy = accuracy_score(val_y, final_binary_predictions)\n",
        "    print(f'Ensemble Accuracy: {accuracy * 100:.2f}%')\n",
        "else:\n",
        "    print(\"Shape mismatch between val_y and final_binary_predictions.\")\n",
        "\n"
      ]
    },
    {
      "cell_type": "code",
      "execution_count": 319,
      "metadata": {
        "colab": {
          "base_uri": "https://localhost:8080/"
        },
        "id": "Kb4YshkVyf6G",
        "outputId": "7ec8c8e4-a594-45d5-f7d5-89a0167e2568"
      },
      "outputs": [
        {
          "name": "stdout",
          "output_type": "stream",
          "text": [
            "val_X shape: (2000, 48)\n",
            "val_y shape: (2000,)\n"
          ]
        }
      ],
      "source": [
        "print(\"val_X shape:\", val_X.shape)\n",
        "print(\"val_y shape:\", val_y.shape)\n"
      ]
    },
    {
      "cell_type": "code",
      "execution_count": 320,
      "metadata": {
        "colab": {
          "base_uri": "https://localhost:8080/"
        },
        "id": "INH5S1YEzVVZ",
        "outputId": "aced0a21-5f66-40db-8fb2-7aad350e0a8e"
      },
      "outputs": [
        {
          "name": "stdout",
          "output_type": "stream",
          "text": [
            "2000\n",
            "2000\n"
          ]
        }
      ],
      "source": [
        "print(len(val_y))\n",
        "print(len(final_binary_predictions))"
      ]
    },
    {
      "cell_type": "code",
      "execution_count": 321,
      "metadata": {
        "colab": {
          "base_uri": "https://localhost:8080/"
        },
        "id": "pt8x9kIZzoSw",
        "outputId": "bd4a0e32-8a29-4fef-9d8b-97fbbae02803"
      },
      "outputs": [
        {
          "name": "stdout",
          "output_type": "stream",
          "text": [
            "val_y shape: (2000,)\n",
            "val_y data type: <class 'pandas.core.series.Series'>\n",
            "final_binary_predictions shape: (2000,)\n",
            "final_binary_predictions data type: <class 'numpy.ndarray'>\n"
          ]
        }
      ],
      "source": [
        "print(\"val_y shape:\", val_y.shape)\n",
        "print(\"val_y data type:\", type(val_y))\n",
        "print(\"final_binary_predictions shape:\", final_binary_predictions.shape)\n",
        "print(\"final_binary_predictions data type:\", type(final_binary_predictions))\n"
      ]
    },
    {
      "cell_type": "code",
      "execution_count": 322,
      "metadata": {
        "colab": {
          "base_uri": "https://localhost:8080/"
        },
        "id": "WILJ90L2gHTf",
        "outputId": "709f7e75-80e0-48e3-a032-f4ba2d4e8bb2"
      },
      "outputs": [
        {
          "name": "stdout",
          "output_type": "stream",
          "text": [
            "Ensemble Accuracy: 96.55%\n"
          ]
        }
      ],
      "source": [
        "from sklearn.metrics import accuracy_score\n",
        "\n",
        "# Calculate the accuracy of the ensemble model\n",
        "accuracy = accuracy_score(val_y, final_binary_predictions)\n",
        "\n",
        "print(f'Ensemble Accuracy: {accuracy * 100:.2f}%')"
      ]
    },
    {
      "cell_type": "code",
      "execution_count": 323,
      "metadata": {
        "colab": {
          "base_uri": "https://localhost:8080/"
        },
        "id": "_mS-uIksgYuc",
        "outputId": "eb14ed95-4e25-4ad0-aee1-39c97ac6bbce"
      },
      "outputs": [
        {
          "name": "stdout",
          "output_type": "stream",
          "text": [
            "Example 1: Binary Prediction=0, Probability=0.0405\n",
            "Example 2: Binary Prediction=0, Probability=0.0114\n",
            "Example 3: Binary Prediction=1, Probability=1.6926\n",
            "Example 4: Binary Prediction=0, Probability=0.0031\n",
            "Example 5: Binary Prediction=1, Probability=1.6933\n",
            "Example 6: Binary Prediction=0, Probability=0.0193\n",
            "Example 7: Binary Prediction=0, Probability=0.0313\n",
            "Example 8: Binary Prediction=0, Probability=0.2355\n",
            "Example 9: Binary Prediction=0, Probability=0.0578\n",
            "Example 10: Binary Prediction=0, Probability=0.0848\n"
          ]
        }
      ],
      "source": [
        "# Include probability results in the predictions\n",
        "final_probabilities = weighted_probabilities\n",
        "\n",
        "# Display binary predictions and probabilities for a few examples\n",
        "for i in range(10):\n",
        "    print(f'Example {i + 1}: Binary Prediction={final_binary_predictions[i]}, Probability={final_probabilities[i].item():.4f}')"
      ]
    },
    {
      "cell_type": "code",
      "execution_count": 324,
      "metadata": {
        "colab": {
          "base_uri": "https://localhost:8080/"
        },
        "id": "Jw1e-yLyijb7",
        "outputId": "b9f69538-424a-4ef0-d212-998bb4fa7b92"
      },
      "outputs": [
        {
          "name": "stdout",
          "output_type": "stream",
          "text": [
            "Classification Report:\n",
            "               precision    recall  f1-score   support\n",
            "\n",
            "           0       0.98      0.95      0.96       987\n",
            "           1       0.95      0.99      0.97      1013\n",
            "\n",
            "    accuracy                           0.97      2000\n",
            "   macro avg       0.97      0.97      0.97      2000\n",
            "weighted avg       0.97      0.97      0.97      2000\n",
            "\n"
          ]
        }
      ],
      "source": [
        "from sklearn.metrics import classification_report\n",
        "\n",
        "# Generate a classification report\n",
        "classification_rep = classification_report(val_y, final_binary_predictions)\n",
        "\n",
        "# Print the classification report\n",
        "print(\"Classification Report:\\n\", classification_rep)"
      ]
    },
    {
      "cell_type": "code",
      "execution_count": 325,
      "metadata": {
        "colab": {
          "base_uri": "https://localhost:8080/"
        },
        "id": "fUlFjGdf6MFv",
        "outputId": "4b410566-bdd5-408c-d393-9371860964b0"
      },
      "outputs": [
        {
          "name": "stdout",
          "output_type": "stream",
          "text": [
            "Ensemble Accuracy: 97.20%\n"
          ]
        }
      ],
      "source": [
        "from sklearn.ensemble import VotingClassifier\n",
        "\n",
        "# Define the models for ensemble\n",
        "models = [\n",
        "    ('Random Forest', base_model_2),\n",
        "    ('Gradient Boosting', base_model_3),\n",
        "    ('SVC', base_model_4),\n",
        "    ('Logistic Regression', base_model_5)\n",
        "]\n",
        "\n",
        "# Create a VotingClassifier with weights\n",
        "ensemble_model = VotingClassifier(estimators=models, voting='soft', weights=[0.3, 0.3, 0.2, 0.5])\n",
        "\n",
        "# Fit the ensemble model on your training data\n",
        "ensemble_model.fit(train_X, train_y)\n",
        "\n",
        "# Make predictions using the ensemble model\n",
        "ensemble_predictions = ensemble_model.predict(val_X)\n",
        "\n",
        "# Calculate the accuracy of the ensemble model\n",
        "ensemble_accuracy = accuracy_score(val_y, ensemble_predictions)\n",
        "print(f'Ensemble Accuracy: {ensemble_accuracy * 100:.2f}%')\n"
      ]
    },
    {
      "cell_type": "code",
      "execution_count": 326,
      "metadata": {
        "colab": {
          "base_uri": "https://localhost:8080/",
          "height": 210
        },
        "id": "ZGQAnWH428fT",
        "outputId": "65bc3ebf-a951-44cf-c119-c93f409edf10"
      },
      "outputs": [
        {
          "ename": "NameError",
          "evalue": "ignored",
          "output_type": "error",
          "traceback": [
            "\u001b[0;31m---------------------------------------------------------------------------\u001b[0m",
            "\u001b[0;31mNameError\u001b[0m                                 Traceback (most recent call last)",
            "\u001b[0;32m<ipython-input-326-b8758794286e>\u001b[0m in \u001b[0;36m<cell line: 4>\u001b[0;34m()\u001b[0m\n\u001b[1;32m      2\u001b[0m \u001b[0;34m\u001b[0m\u001b[0m\n\u001b[1;32m      3\u001b[0m \u001b[0;31m# Save the trained model to a file\u001b[0m\u001b[0;34m\u001b[0m\u001b[0;34m\u001b[0m\u001b[0m\n\u001b[0;32m----> 4\u001b[0;31m \u001b[0mjoblib\u001b[0m\u001b[0;34m.\u001b[0m\u001b[0mdump\u001b[0m\u001b[0;34m(\u001b[0m\u001b[0mfinal_model\u001b[0m\u001b[0;34m,\u001b[0m \u001b[0;34m'final_model.pkl'\u001b[0m\u001b[0;34m)\u001b[0m\u001b[0;34m\u001b[0m\u001b[0;34m\u001b[0m\u001b[0m\n\u001b[0m",
            "\u001b[0;31mNameError\u001b[0m: name 'final_model' is not defined"
          ]
        }
      ],
      "source": [
        "import joblib\n",
        "\n",
        "# Save the trained model to a file\n",
        "joblib.dump(final_model, 'final_model.pkl')"
      ]
    }
  ],
  "metadata": {
    "colab": {
      "provenance": []
    },
    "kernelspec": {
      "display_name": "Python 3",
      "name": "python3"
    },
    "language_info": {
      "codemirror_mode": {
        "name": "ipython",
        "version": 3
      },
      "file_extension": ".py",
      "mimetype": "text/x-python",
      "name": "python",
      "nbconvert_exporter": "python",
      "pygments_lexer": "ipython3",
      "version": "3.12.0"
    }
  },
  "nbformat": 4,
  "nbformat_minor": 0
}
