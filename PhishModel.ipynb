{
  "cells": [
    {
      "cell_type": "code",
      "execution_count": 1,
      "metadata": {
        "colab": {
          "base_uri": "https://localhost:8080/"
        },
        "id": "joMPbpXO_f0d",
        "outputId": "a22bdd77-be8e-4c3c-e82b-9cd0affbb3e3"
      },
      "outputs": [],
      "source": [
        "# from google.colab import drive\n",
        "# drive.mount('/content/drive')"
      ]
    },
    {
      "cell_type": "code",
      "execution_count": 8,
      "metadata": {},
      "outputs": [],
      "source": [
        "import pandas as pd\n",
        "from sklearn.model_selection import train_test_split\n",
        "from sklearn.preprocessing import StandardScaler\n",
        "from sklearn.utils import shuffle\n",
        "import keras\n",
        "from keras.models import Sequential\n",
        "from keras.layers import Dense\n",
        "from keras.callbacks import EarlyStopping, ModelCheckpoint\n",
        "from sklearn.ensemble import RandomForestClassifier, GradientBoostingClassifier, VotingClassifier\n",
        "from sklearn.svm import SVC\n",
        "from sklearn.linear_model import LogisticRegression\n",
        "from sklearn.metrics import accuracy_score, classification_report\n",
        "import numpy as np"
      ]
    },
    {
      "cell_type": "code",
      "execution_count": 9,
      "metadata": {
        "id": "LeK4xLg-2yCl"
      },
      "outputs": [
        {
          "data": {
            "text/html": [
              "<div>\n",
              "<style scoped>\n",
              "    .dataframe tbody tr th:only-of-type {\n",
              "        vertical-align: middle;\n",
              "    }\n",
              "\n",
              "    .dataframe tbody tr th {\n",
              "        vertical-align: top;\n",
              "    }\n",
              "\n",
              "    .dataframe thead th {\n",
              "        text-align: right;\n",
              "    }\n",
              "</style>\n",
              "<table border=\"1\" class=\"dataframe\">\n",
              "  <thead>\n",
              "    <tr style=\"text-align: right;\">\n",
              "      <th></th>\n",
              "      <th>id</th>\n",
              "      <th>NumDots</th>\n",
              "      <th>SubdomainLevel</th>\n",
              "      <th>PathLevel</th>\n",
              "      <th>UrlLength</th>\n",
              "      <th>NumDash</th>\n",
              "      <th>NumDashInHostname</th>\n",
              "      <th>AtSymbol</th>\n",
              "      <th>TildeSymbol</th>\n",
              "      <th>NumUnderscore</th>\n",
              "      <th>...</th>\n",
              "      <th>IframeOrFrame</th>\n",
              "      <th>MissingTitle</th>\n",
              "      <th>ImagesOnlyInForm</th>\n",
              "      <th>SubdomainLevelRT</th>\n",
              "      <th>UrlLengthRT</th>\n",
              "      <th>PctExtResourceUrlsRT</th>\n",
              "      <th>AbnormalExtFormActionR</th>\n",
              "      <th>ExtMetaScriptLinkRT</th>\n",
              "      <th>PctExtNullSelfRedirectHyperlinksRT</th>\n",
              "      <th>CLASS_LABEL</th>\n",
              "    </tr>\n",
              "  </thead>\n",
              "  <tbody>\n",
              "    <tr>\n",
              "      <th>0</th>\n",
              "      <td>1</td>\n",
              "      <td>3</td>\n",
              "      <td>1</td>\n",
              "      <td>5</td>\n",
              "      <td>72</td>\n",
              "      <td>0</td>\n",
              "      <td>0</td>\n",
              "      <td>0</td>\n",
              "      <td>0</td>\n",
              "      <td>0</td>\n",
              "      <td>...</td>\n",
              "      <td>0</td>\n",
              "      <td>0</td>\n",
              "      <td>1</td>\n",
              "      <td>1</td>\n",
              "      <td>0</td>\n",
              "      <td>1</td>\n",
              "      <td>1</td>\n",
              "      <td>-1</td>\n",
              "      <td>1</td>\n",
              "      <td>1</td>\n",
              "    </tr>\n",
              "    <tr>\n",
              "      <th>1</th>\n",
              "      <td>2</td>\n",
              "      <td>3</td>\n",
              "      <td>1</td>\n",
              "      <td>3</td>\n",
              "      <td>144</td>\n",
              "      <td>0</td>\n",
              "      <td>0</td>\n",
              "      <td>0</td>\n",
              "      <td>0</td>\n",
              "      <td>2</td>\n",
              "      <td>...</td>\n",
              "      <td>0</td>\n",
              "      <td>0</td>\n",
              "      <td>0</td>\n",
              "      <td>1</td>\n",
              "      <td>-1</td>\n",
              "      <td>1</td>\n",
              "      <td>1</td>\n",
              "      <td>1</td>\n",
              "      <td>1</td>\n",
              "      <td>1</td>\n",
              "    </tr>\n",
              "    <tr>\n",
              "      <th>2</th>\n",
              "      <td>3</td>\n",
              "      <td>3</td>\n",
              "      <td>1</td>\n",
              "      <td>2</td>\n",
              "      <td>58</td>\n",
              "      <td>0</td>\n",
              "      <td>0</td>\n",
              "      <td>0</td>\n",
              "      <td>0</td>\n",
              "      <td>0</td>\n",
              "      <td>...</td>\n",
              "      <td>0</td>\n",
              "      <td>0</td>\n",
              "      <td>0</td>\n",
              "      <td>1</td>\n",
              "      <td>0</td>\n",
              "      <td>-1</td>\n",
              "      <td>1</td>\n",
              "      <td>-1</td>\n",
              "      <td>0</td>\n",
              "      <td>1</td>\n",
              "    </tr>\n",
              "    <tr>\n",
              "      <th>3</th>\n",
              "      <td>4</td>\n",
              "      <td>3</td>\n",
              "      <td>1</td>\n",
              "      <td>6</td>\n",
              "      <td>79</td>\n",
              "      <td>1</td>\n",
              "      <td>0</td>\n",
              "      <td>0</td>\n",
              "      <td>0</td>\n",
              "      <td>0</td>\n",
              "      <td>...</td>\n",
              "      <td>0</td>\n",
              "      <td>0</td>\n",
              "      <td>0</td>\n",
              "      <td>1</td>\n",
              "      <td>-1</td>\n",
              "      <td>1</td>\n",
              "      <td>1</td>\n",
              "      <td>1</td>\n",
              "      <td>-1</td>\n",
              "      <td>1</td>\n",
              "    </tr>\n",
              "    <tr>\n",
              "      <th>4</th>\n",
              "      <td>5</td>\n",
              "      <td>3</td>\n",
              "      <td>0</td>\n",
              "      <td>4</td>\n",
              "      <td>46</td>\n",
              "      <td>0</td>\n",
              "      <td>0</td>\n",
              "      <td>0</td>\n",
              "      <td>0</td>\n",
              "      <td>0</td>\n",
              "      <td>...</td>\n",
              "      <td>1</td>\n",
              "      <td>0</td>\n",
              "      <td>0</td>\n",
              "      <td>1</td>\n",
              "      <td>1</td>\n",
              "      <td>-1</td>\n",
              "      <td>0</td>\n",
              "      <td>-1</td>\n",
              "      <td>-1</td>\n",
              "      <td>1</td>\n",
              "    </tr>\n",
              "  </tbody>\n",
              "</table>\n",
              "<p>5 rows × 50 columns</p>\n",
              "</div>"
            ],
            "text/plain": [
              "   id  NumDots  SubdomainLevel  PathLevel  UrlLength  NumDash  \\\n",
              "0   1        3               1          5         72        0   \n",
              "1   2        3               1          3        144        0   \n",
              "2   3        3               1          2         58        0   \n",
              "3   4        3               1          6         79        1   \n",
              "4   5        3               0          4         46        0   \n",
              "\n",
              "   NumDashInHostname  AtSymbol  TildeSymbol  NumUnderscore  ...  \\\n",
              "0                  0         0            0              0  ...   \n",
              "1                  0         0            0              2  ...   \n",
              "2                  0         0            0              0  ...   \n",
              "3                  0         0            0              0  ...   \n",
              "4                  0         0            0              0  ...   \n",
              "\n",
              "   IframeOrFrame  MissingTitle  ImagesOnlyInForm  SubdomainLevelRT  \\\n",
              "0              0             0                 1                 1   \n",
              "1              0             0                 0                 1   \n",
              "2              0             0                 0                 1   \n",
              "3              0             0                 0                 1   \n",
              "4              1             0                 0                 1   \n",
              "\n",
              "   UrlLengthRT  PctExtResourceUrlsRT  AbnormalExtFormActionR  \\\n",
              "0            0                     1                       1   \n",
              "1           -1                     1                       1   \n",
              "2            0                    -1                       1   \n",
              "3           -1                     1                       1   \n",
              "4            1                    -1                       0   \n",
              "\n",
              "   ExtMetaScriptLinkRT  PctExtNullSelfRedirectHyperlinksRT  CLASS_LABEL  \n",
              "0                   -1                                   1            1  \n",
              "1                    1                                   1            1  \n",
              "2                   -1                                   0            1  \n",
              "3                    1                                  -1            1  \n",
              "4                   -1                                  -1            1  \n",
              "\n",
              "[5 rows x 50 columns]"
            ]
          },
          "execution_count": 9,
          "metadata": {},
          "output_type": "execute_result"
        }
      ],
      "source": [
        "#load dataset\n",
        "data = pd.read_csv('D:\\Workspace\\PhishCatchingModel\\Dataset\\dataset.csv')\n",
        "#filter rows with missing values\n",
        "data = data.dropna(axis=0)\n",
        "\n",
        "data.head()"
      ]
    },
    {
      "cell_type": "code",
      "execution_count": 10,
      "metadata": {
        "colab": {
          "base_uri": "https://localhost:8080/"
        },
        "id": "vB3AVrQr_M4C",
        "outputId": "bea3ebb0-1cdb-433d-d286-883bedc9e72c"
      },
      "outputs": [
        {
          "data": {
            "text/plain": [
              "Index(['id', 'NumDots', 'SubdomainLevel', 'PathLevel', 'UrlLength', 'NumDash',\n",
              "       'NumDashInHostname', 'AtSymbol', 'TildeSymbol', 'NumUnderscore',\n",
              "       'NumPercent', 'NumQueryComponents', 'NumAmpersand', 'NumHash',\n",
              "       'NumNumericChars', 'NoHttps', 'RandomString', 'IpAddress',\n",
              "       'DomainInSubdomains', 'DomainInPaths', 'HttpsInHostname',\n",
              "       'HostnameLength', 'PathLength', 'QueryLength', 'DoubleSlashInPath',\n",
              "       'NumSensitiveWords', 'EmbeddedBrandName', 'PctExtHyperlinks',\n",
              "       'PctExtResourceUrls', 'ExtFavicon', 'InsecureForms',\n",
              "       'RelativeFormAction', 'ExtFormAction', 'AbnormalFormAction',\n",
              "       'PctNullSelfRedirectHyperlinks', 'FrequentDomainNameMismatch',\n",
              "       'FakeLinkInStatusBar', 'RightClickDisabled', 'PopUpWindow',\n",
              "       'SubmitInfoToEmail', 'IframeOrFrame', 'MissingTitle',\n",
              "       'ImagesOnlyInForm', 'SubdomainLevelRT', 'UrlLengthRT',\n",
              "       'PctExtResourceUrlsRT', 'AbnormalExtFormActionR', 'ExtMetaScriptLinkRT',\n",
              "       'PctExtNullSelfRedirectHyperlinksRT', 'CLASS_LABEL'],\n",
              "      dtype='object')"
            ]
          },
          "execution_count": 10,
          "metadata": {},
          "output_type": "execute_result"
        }
      ],
      "source": [
        "data.columns"
      ]
    },
    {
      "cell_type": "code",
      "execution_count": 11,
      "metadata": {
        "id": "SJGhyIuP70Ue"
      },
      "outputs": [],
      "source": [
        "#select features to work with\n",
        "features = ['NumDots', 'SubdomainLevel', 'PathLevel', 'UrlLength', 'NumDash',\n",
        "       'NumDashInHostname', 'AtSymbol', 'TildeSymbol', 'NumUnderscore',\n",
        "       'NumPercent', 'NumQueryComponents', 'NumAmpersand', 'NumHash',\n",
        "       'NumNumericChars', 'NoHttps', 'RandomString', 'IpAddress',\n",
        "       'DomainInSubdomains', 'DomainInPaths', 'HttpsInHostname',\n",
        "       'HostnameLength', 'PathLength', 'QueryLength', 'DoubleSlashInPath',\n",
        "       'NumSensitiveWords', 'EmbeddedBrandName', 'PctExtHyperlinks',\n",
        "       'PctExtResourceUrls', 'ExtFavicon', 'InsecureForms',\n",
        "       'RelativeFormAction', 'ExtFormAction', 'AbnormalFormAction',\n",
        "       'PctNullSelfRedirectHyperlinks', 'FrequentDomainNameMismatch',\n",
        "       'FakeLinkInStatusBar', 'RightClickDisabled', 'PopUpWindow',\n",
        "       'SubmitInfoToEmail', 'IframeOrFrame', 'MissingTitle',\n",
        "       'ImagesOnlyInForm', 'SubdomainLevelRT', 'UrlLengthRT',\n",
        "       'PctExtResourceUrlsRT', 'AbnormalExtFormActionR', 'ExtMetaScriptLinkRT',\n",
        "       'PctExtNullSelfRedirectHyperlinksRT']\n",
        "\n",
        "X = data[features]\n",
        "\n",
        "#Choosing target label\n",
        "y = data.CLASS_LABEL"
      ]
    },
    {
      "cell_type": "code",
      "execution_count": 13,
      "metadata": {
        "id": "afwcvOgM_M4E"
      },
      "outputs": [],
      "source": [
        "#Shuffling the data\n",
        "X, y = shuffle(X, y, random_state=42)\n",
        "\n",
        "#splitting the data into train and test sets\n",
        "train_X, val_X, train_y, val_y = train_test_split(X, y, test_size=0.2, random_state=42)\n",
        "\n",
        "#Scaling the data\n",
        "scaler = StandardScaler()\n",
        "train_X = scaler.fit_transform(train_X)\n",
        "val_X = scaler.transform(val_X)"
      ]
    },
    {
      "cell_type": "code",
      "execution_count": 14,
      "metadata": {
        "id": "G3xRpeJk_M4E"
      },
      "outputs": [
        {
          "name": "stdout",
          "output_type": "stream",
          "text": [
            "Epoch 1/50\n",
            "125/125 [==============================] - 1s 3ms/step - loss: 0.2817 - accuracy: 0.9032 - val_loss: 0.1722 - val_accuracy: 0.9410\n",
            "\n",
            "Epoch 00001: val_loss improved from inf to 0.17218, saving model to best_model.h5\n",
            "Epoch 2/50\n",
            "125/125 [==============================] - 0s 1ms/step - loss: 0.1385 - accuracy: 0.9484 - val_loss: 0.1486 - val_accuracy: 0.9505\n",
            "\n",
            "Epoch 00002: val_loss improved from 0.17218 to 0.14860, saving model to best_model.h5\n",
            "Epoch 3/50\n",
            "125/125 [==============================] - 0s 2ms/step - loss: 0.1162 - accuracy: 0.9563 - val_loss: 0.1340 - val_accuracy: 0.9530\n",
            "\n",
            "Epoch 00003: val_loss improved from 0.14860 to 0.13404, saving model to best_model.h5\n",
            "Epoch 4/50\n",
            "125/125 [==============================] - 0s 2ms/step - loss: 0.1014 - accuracy: 0.9606 - val_loss: 0.1279 - val_accuracy: 0.9525\n",
            "\n",
            "Epoch 00004: val_loss improved from 0.13404 to 0.12792, saving model to best_model.h5\n",
            "Epoch 5/50\n",
            "125/125 [==============================] - 0s 2ms/step - loss: 0.0905 - accuracy: 0.9668 - val_loss: 0.1212 - val_accuracy: 0.9555\n",
            "\n",
            "Epoch 00005: val_loss improved from 0.12792 to 0.12123, saving model to best_model.h5\n",
            "Epoch 6/50\n",
            "125/125 [==============================] - 0s 2ms/step - loss: 0.0817 - accuracy: 0.9716 - val_loss: 0.1115 - val_accuracy: 0.9570\n",
            "\n",
            "Epoch 00006: val_loss improved from 0.12123 to 0.11149, saving model to best_model.h5\n",
            "Epoch 7/50\n",
            "125/125 [==============================] - 0s 2ms/step - loss: 0.0737 - accuracy: 0.9734 - val_loss: 0.1044 - val_accuracy: 0.9585\n",
            "\n",
            "Epoch 00007: val_loss improved from 0.11149 to 0.10440, saving model to best_model.h5\n",
            "Epoch 8/50\n",
            "125/125 [==============================] - 0s 2ms/step - loss: 0.0645 - accuracy: 0.9772 - val_loss: 0.0990 - val_accuracy: 0.9635\n",
            "\n",
            "Epoch 00008: val_loss improved from 0.10440 to 0.09899, saving model to best_model.h5\n",
            "Epoch 9/50\n",
            "125/125 [==============================] - 0s 2ms/step - loss: 0.0615 - accuracy: 0.9770 - val_loss: 0.0999 - val_accuracy: 0.9620\n",
            "\n",
            "Epoch 00009: val_loss did not improve from 0.09899\n",
            "Epoch 10/50\n",
            "125/125 [==============================] - 0s 2ms/step - loss: 0.0537 - accuracy: 0.9804 - val_loss: 0.0953 - val_accuracy: 0.9670\n",
            "\n",
            "Epoch 00010: val_loss improved from 0.09899 to 0.09534, saving model to best_model.h5\n",
            "Epoch 11/50\n",
            "125/125 [==============================] - 0s 1ms/step - loss: 0.0491 - accuracy: 0.9829 - val_loss: 0.0987 - val_accuracy: 0.9640\n",
            "\n",
            "Epoch 00011: val_loss did not improve from 0.09534\n",
            "Epoch 12/50\n",
            "125/125 [==============================] - 0s 1ms/step - loss: 0.0443 - accuracy: 0.9840 - val_loss: 0.0924 - val_accuracy: 0.9665\n",
            "\n",
            "Epoch 00012: val_loss improved from 0.09534 to 0.09241, saving model to best_model.h5\n",
            "Epoch 13/50\n",
            "125/125 [==============================] - 0s 1ms/step - loss: 0.0407 - accuracy: 0.9851 - val_loss: 0.0897 - val_accuracy: 0.9705\n",
            "\n",
            "Epoch 00013: val_loss improved from 0.09241 to 0.08967, saving model to best_model.h5\n",
            "Epoch 14/50\n",
            "125/125 [==============================] - 0s 1ms/step - loss: 0.0361 - accuracy: 0.9871 - val_loss: 0.0865 - val_accuracy: 0.9685\n",
            "\n",
            "Epoch 00014: val_loss improved from 0.08967 to 0.08646, saving model to best_model.h5\n",
            "Epoch 15/50\n",
            "125/125 [==============================] - 0s 2ms/step - loss: 0.0335 - accuracy: 0.9889 - val_loss: 0.0971 - val_accuracy: 0.9670\n",
            "\n",
            "Epoch 00015: val_loss did not improve from 0.08646\n",
            "Epoch 16/50\n",
            "125/125 [==============================] - 0s 2ms/step - loss: 0.0322 - accuracy: 0.9889 - val_loss: 0.0920 - val_accuracy: 0.9685\n",
            "\n",
            "Epoch 00016: val_loss did not improve from 0.08646\n",
            "Epoch 17/50\n",
            "125/125 [==============================] - 0s 2ms/step - loss: 0.0283 - accuracy: 0.9891 - val_loss: 0.0929 - val_accuracy: 0.9700\n",
            "\n",
            "Epoch 00017: val_loss did not improve from 0.08646\n",
            "Epoch 18/50\n",
            "125/125 [==============================] - 0s 2ms/step - loss: 0.0272 - accuracy: 0.9915 - val_loss: 0.1011 - val_accuracy: 0.9690\n",
            "\n",
            "Epoch 00018: val_loss did not improve from 0.08646\n",
            "Epoch 19/50\n",
            "125/125 [==============================] - 0s 1ms/step - loss: 0.0244 - accuracy: 0.9924 - val_loss: 0.1024 - val_accuracy: 0.9650\n",
            "\n",
            "Epoch 00019: val_loss did not improve from 0.08646\n",
            "Epoch 20/50\n",
            "125/125 [==============================] - 0s 1ms/step - loss: 0.0218 - accuracy: 0.9927 - val_loss: 0.0973 - val_accuracy: 0.9690\n",
            "\n",
            "Epoch 00020: val_loss did not improve from 0.08646\n",
            "Epoch 21/50\n",
            "125/125 [==============================] - 0s 1ms/step - loss: 0.0202 - accuracy: 0.9933 - val_loss: 0.0968 - val_accuracy: 0.9690\n",
            "\n",
            "Epoch 00021: val_loss did not improve from 0.08646\n",
            "Epoch 22/50\n",
            "125/125 [==============================] - 0s 1ms/step - loss: 0.0211 - accuracy: 0.9931 - val_loss: 0.1000 - val_accuracy: 0.9730\n",
            "\n",
            "Epoch 00022: val_loss did not improve from 0.08646\n",
            "Epoch 23/50\n",
            "125/125 [==============================] - 0s 2ms/step - loss: 0.0180 - accuracy: 0.9945 - val_loss: 0.1092 - val_accuracy: 0.9680\n",
            "\n",
            "Epoch 00023: val_loss did not improve from 0.08646\n",
            "Epoch 24/50\n",
            "125/125 [==============================] - 0s 1ms/step - loss: 0.0167 - accuracy: 0.9941 - val_loss: 0.1021 - val_accuracy: 0.9740\n",
            "Restoring model weights from the end of the best epoch.\n",
            "\n",
            "Epoch 00024: val_loss did not improve from 0.08646\n",
            "Epoch 00024: early stopping\n"
          ]
        },
        {
          "data": {
            "text/plain": [
              "<keras.callbacks.History at 0x23d34fcbac8>"
            ]
          },
          "execution_count": 14,
          "metadata": {},
          "output_type": "execute_result"
        }
      ],
      "source": [
        "# NN Model\n",
        "base_model_1 = keras.Sequential()\n",
        "\n",
        "base_model_1.add(Dense(64, activation='relu', input_shape=(train_X.shape[1],)))\n",
        "base_model_1.add(Dense(32, activation='relu'))\n",
        "base_model_1.add(Dense(1, activation='sigmoid'))\n",
        "\n",
        "base_model_1.compile(optimizer='adam', loss='binary_crossentropy', metrics=['accuracy'])\n",
        "\n",
        "early_stopping = EarlyStopping(monitor='val_loss', patience=10, verbose=1, restore_best_weights=True)\n",
        "model_checkpoint = ModelCheckpoint('best_model.h5', monitor='val_loss', save_best_only=True, verbose=1)\n",
        "\n",
        "# Fit the NN Model\n",
        "base_model_1.fit(train_X, train_y, epochs=50, batch_size=64, validation_data=(val_X, val_y), callbacks=[early_stopping, model_checkpoint])"
      ]
    },
    {
      "cell_type": "code",
      "execution_count": 15,
      "metadata": {},
      "outputs": [
        {
          "data": {
            "text/plain": [
              "LogisticRegression(C=6, max_iter=500, random_state=52)"
            ]
          },
          "execution_count": 15,
          "metadata": {},
          "output_type": "execute_result"
        }
      ],
      "source": [
        "#Random Forest Model\n",
        "base_model_2 = RandomForestClassifier(n_estimators=100, max_depth=10, random_state=42)\n",
        "# Fit the Random Forest Model\n",
        "base_model_2.fit(train_X, train_y)\n",
        "\n",
        "#Gradient Boosting Model\n",
        "base_model_3 = GradientBoostingClassifier(n_estimators=70, learning_rate=0.1, max_depth=5, random_state=12)\n",
        "# Fit the Gradient Boosting Model\n",
        "base_model_3.fit(train_X, train_y)\n",
        "\n",
        "#SVC Model\n",
        "base_model_4 = SVC(probability=True, random_state=10, C=1.0, kernel='rbf')  # SVC with probability=True\n",
        "# Fit the SVC Model\n",
        "base_model_4.fit(train_X, train_y)\n",
        "\n",
        "#Logistic Regression\n",
        "base_model_5 = LogisticRegression(random_state=52, C=6, max_iter=500)\n",
        "# Fit the Logistic Regression Model\n",
        "base_model_5.fit(train_X, train_y)\n"
      ]
    },
    {
      "cell_type": "code",
      "execution_count": 18,
      "metadata": {},
      "outputs": [
        {
          "name": "stdout",
          "output_type": "stream",
          "text": [
            "NN Model Accuracy: 96.85%\n",
            "Random Forest Accuracy: 97.40%\n",
            "Gradient Boosting Accuracy: 98.00%\n",
            "SVC Accuracy: 95.55%\n",
            "Logistic Regression Accuracy: 94.50%\n"
          ]
        }
      ],
      "source": [
        "# Define the models\n",
        "models = {\n",
        "    \"NN Model\": base_model_1,\n",
        "    \"Random Forest\": base_model_2,\n",
        "    \"Gradient Boosting\": base_model_3,\n",
        "    \"SVC\": base_model_4,\n",
        "    \"Logistic Regression\": base_model_5\n",
        "}\n",
        "\n",
        "# Evaluate each model\n",
        "for name, model in models.items():\n",
        "    if name == \"NN Model\":\n",
        "        pred = model.predict(val_X).flatten()  # NN model returns probabilities\n",
        "    else:\n",
        "        pred = model.predict(val_X)  # Other models return direct predictions\n",
        "    \n",
        "    # Convert predictions to binary\n",
        "    binary_predictions = (pred > 0.5).astype(int)\n",
        "    \n",
        "    # Calculate accuracy\n",
        "    accuracy = accuracy_score(val_y, binary_predictions)\n",
        "    print(f\"{name} Accuracy: {accuracy * 100:.2f}%\")"
      ]
    },
    {
      "cell_type": "code",
      "execution_count": 20,
      "metadata": {
        "colab": {
          "base_uri": "https://localhost:8080/"
        },
        "id": "MvCJ8Pqn2fUU",
        "outputId": "1f94cf8a-3dbb-4d96-95bf-a4345d78f96f"
      },
      "outputs": [
        {
          "name": "stdout",
          "output_type": "stream",
          "text": [
            "Ensemble Accuracy: 97.80%\n"
          ]
        }
      ],
      "source": [
        "from sklearn.ensemble import VotingClassifier\n",
        "\n",
        "# Define the models for the ensemble (excluding the NN model)\n",
        "ensemble_models = [\n",
        "    ('rf', base_model_2),\n",
        "    ('gb', base_model_3),\n",
        "    ('svc', base_model_4),\n",
        "    ('lr', base_model_5)\n",
        "]\n",
        "\n",
        "# Create a VotingClassifier with weights\n",
        "ensemble_model = VotingClassifier(estimators=ensemble_models, voting='soft', weights=[0.3, 0.3, 0.2, 0.2])\n",
        "\n",
        "# Fit the ensemble model on your training data\n",
        "ensemble_model.fit(train_X, train_y)\n",
        "\n",
        "# Make predictions using the ensemble model\n",
        "ensemble_predictions = ensemble_model.predict(val_X)\n",
        "\n",
        "# Calculate the accuracy of the ensemble model\n",
        "ensemble_accuracy = accuracy_score(val_y, ensemble_predictions)\n",
        "print(f'Ensemble Accuracy: {ensemble_accuracy * 100:.2f}%')\n"
      ]
    },
    {
      "cell_type": "code",
      "execution_count": 21,
      "metadata": {
        "colab": {
          "base_uri": "https://localhost:8080/"
        },
        "id": "Jw1e-yLyijb7",
        "outputId": "b9f69538-424a-4ef0-d212-998bb4fa7b92"
      },
      "outputs": [
        {
          "name": "stdout",
          "output_type": "stream",
          "text": [
            "Classification Report:\n",
            "               precision    recall  f1-score   support\n",
            "\n",
            "           0       0.97      0.98      0.98      1008\n",
            "           1       0.98      0.97      0.98       992\n",
            "\n",
            "    accuracy                           0.98      2000\n",
            "   macro avg       0.98      0.98      0.98      2000\n",
            "weighted avg       0.98      0.98      0.98      2000\n",
            "\n"
          ]
        }
      ],
      "source": [
        "# Classification report\n",
        "classification_rep = classification_report(val_y, ensemble_predictions)\n",
        "print(\"Classification Report:\\n\", classification_rep)"
      ]
    },
    {
      "cell_type": "code",
      "execution_count": 22,
      "metadata": {
        "colab": {
          "base_uri": "https://localhost:8080/",
          "height": 210
        },
        "id": "ZGQAnWH428fT",
        "outputId": "65bc3ebf-a951-44cf-c119-c93f409edf10"
      },
      "outputs": [
        {
          "data": {
            "text/plain": [
              "['ensemble_model.h5']"
            ]
          },
          "execution_count": 22,
          "metadata": {},
          "output_type": "execute_result"
        }
      ],
      "source": [
        "import joblib\n",
        "\n",
        "# Save the trained model to a file\n",
        "joblib.dump(ensemble_model, 'ensemble_model.h5')"
      ]
    }
  ],
  "metadata": {
    "colab": {
      "provenance": []
    },
    "kernelspec": {
      "display_name": "Python 3",
      "name": "python3"
    },
    "language_info": {
      "codemirror_mode": {
        "name": "ipython",
        "version": 3
      },
      "file_extension": ".py",
      "mimetype": "text/x-python",
      "name": "python",
      "nbconvert_exporter": "python",
      "pygments_lexer": "ipython3",
      "version": "3.6.8"
    }
  },
  "nbformat": 4,
  "nbformat_minor": 0
}
