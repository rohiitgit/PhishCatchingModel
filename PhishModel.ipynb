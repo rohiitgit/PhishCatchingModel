{
  "cells": [
    {
      "cell_type": "code",
      "execution_count": 3,
      "metadata": {
        "id": "LeK4xLg-2yCl"
      },
      "outputs": [],
      "source": [
        "#import pandas and read the dataset\n",
        "\n",
        "import pandas as pd\n",
        "data = pd.read_csv('dataset.csv')"
      ]
    },
    {
      "cell_type": "code",
      "execution_count": 4,
      "metadata": {
        "id": "vaNuiQYf3er2"
      },
      "outputs": [],
      "source": [
        "#filter rows with missing values\n",
        "data = data.dropna(axis=0)"
      ]
    },
    {
      "cell_type": "code",
      "execution_count": 5,
      "metadata": {},
      "outputs": [
        {
          "data": {
            "text/plain": [
              "Index(['id', 'NumDots', 'SubdomainLevel', 'PathLevel', 'UrlLength', 'NumDash',\n",
              "       'NumDashInHostname', 'AtSymbol', 'TildeSymbol', 'NumUnderscore',\n",
              "       'NumPercent', 'NumQueryComponents', 'NumAmpersand', 'NumHash',\n",
              "       'NumNumericChars', 'NoHttps', 'RandomString', 'IpAddress',\n",
              "       'DomainInSubdomains', 'DomainInPaths', 'HttpsInHostname',\n",
              "       'HostnameLength', 'PathLength', 'QueryLength', 'DoubleSlashInPath',\n",
              "       'NumSensitiveWords', 'EmbeddedBrandName', 'PctExtHyperlinks',\n",
              "       'PctExtResourceUrls', 'ExtFavicon', 'InsecureForms',\n",
              "       'RelativeFormAction', 'ExtFormAction', 'AbnormalFormAction',\n",
              "       'PctNullSelfRedirectHyperlinks', 'FrequentDomainNameMismatch',\n",
              "       'FakeLinkInStatusBar', 'RightClickDisabled', 'PopUpWindow',\n",
              "       'SubmitInfoToEmail', 'IframeOrFrame', 'MissingTitle',\n",
              "       'ImagesOnlyInForm', 'SubdomainLevelRT', 'UrlLengthRT',\n",
              "       'PctExtResourceUrlsRT', 'AbnormalExtFormActionR', 'ExtMetaScriptLinkRT',\n",
              "       'PctExtNullSelfRedirectHyperlinksRT', 'CLASS_LABEL'],\n",
              "      dtype='object')"
            ]
          },
          "execution_count": 5,
          "metadata": {},
          "output_type": "execute_result"
        }
      ],
      "source": [
        "data.columns"
      ]
    },
    {
      "cell_type": "code",
      "execution_count": 6,
      "metadata": {
        "id": "SJGhyIuP70Ue"
      },
      "outputs": [],
      "source": [
        "#select features to work with\n",
        "data_features = ['NumDots', 'SubdomainLevel', 'PathLevel', 'UrlLength', 'NumDash',\n",
        "       'NumDashInHostname', 'AtSymbol', 'TildeSymbol', 'NumUnderscore',\n",
        "       'NumPercent', 'NumQueryComponents', 'NumAmpersand', 'NumHash',\n",
        "       'NumNumericChars', 'NoHttps', 'RandomString', 'IpAddress',\n",
        "       'DomainInSubdomains', 'DomainInPaths', 'HttpsInHostname',\n",
        "       'HostnameLength', 'PathLength', 'QueryLength', 'DoubleSlashInPath',\n",
        "       'NumSensitiveWords', 'EmbeddedBrandName', 'PctExtHyperlinks',\n",
        "       'PctExtResourceUrls', 'ExtFavicon', 'InsecureForms',\n",
        "       'RelativeFormAction', 'ExtFormAction', 'AbnormalFormAction',\n",
        "       'PctNullSelfRedirectHyperlinks', 'FrequentDomainNameMismatch',\n",
        "       'FakeLinkInStatusBar', 'RightClickDisabled', 'PopUpWindow',\n",
        "       'SubmitInfoToEmail', 'IframeOrFrame', 'MissingTitle',\n",
        "       'ImagesOnlyInForm', 'SubdomainLevelRT', 'UrlLengthRT',\n",
        "       'PctExtResourceUrlsRT', 'AbnormalExtFormActionR', 'ExtMetaScriptLinkRT',\n",
        "       'PctExtNullSelfRedirectHyperlinksRT']\n",
        "\n",
        "X = data[data_features]"
      ]
    },
    {
      "cell_type": "code",
      "execution_count": 7,
      "metadata": {
        "id": "nzgshUes_Cwv"
      },
      "outputs": [],
      "source": [
        "#Choosing target\n",
        "y = data.CLASS_LABEL"
      ]
    },
    {
      "cell_type": "code",
      "execution_count": 8,
      "metadata": {},
      "outputs": [],
      "source": [
        "#splitting data into training and validation data\n",
        "\n",
        "from sklearn.model_selection import train_test_split\n",
        "\n",
        "train_X, val_X, train_y, val_y = train_test_split(X,y, random_state=0)"
      ]
    },
    {
      "cell_type": "code",
      "execution_count": 9,
      "metadata": {},
      "outputs": [],
      "source": [
        "# defining a function to try different approaches to deal with missing values\n",
        "\n",
        "from sklearn.ensemble import RandomForestRegressor\n",
        "from sklearn.metrics import mean_absolute_error\n",
        "\n",
        "def score_dataset(train_X, val_X, train_y, val_y):\n",
        "    model = RandomForestRegressor(n_estimators=100, random_state=0)\n",
        "    model.fit(train_X, train_y)\n",
        "    preds = model.predict(val_X)\n",
        "    return mean_absolute_error(val_y, preds)"
      ]
    },
    {
      "cell_type": "markdown",
      "metadata": {},
      "source": [
        "Using Pipelines to apply Cross Validation"
      ]
    },
    {
      "cell_type": "code",
      "execution_count": 10,
      "metadata": {},
      "outputs": [],
      "source": [
        "from sklearn.ensemble import RandomForestRegressor\n",
        "from sklearn.pipeline import Pipeline\n",
        "from sklearn.impute import SimpleImputer\n",
        "\n",
        "my_pipeline = Pipeline(steps=[('preprocessor', SimpleImputer()),\n",
        "                              ('model', RandomForestRegressor(n_estimators=100, random_state=0))])\n"
      ]
    },
    {
      "cell_type": "code",
      "execution_count": 11,
      "metadata": {},
      "outputs": [
        {
          "name": "stdout",
          "output_type": "stream",
          "text": [
            "MAE scores:\n",
            " [0.09742  0.072645 0.061985 0.065195 0.435255]\n"
          ]
        }
      ],
      "source": [
        "from sklearn.model_selection import cross_val_score\n",
        "\n",
        "scores = -1 * cross_val_score(my_pipeline, X, y, cv=5, scoring='neg_mean_absolute_error')\n",
        "\n",
        "print(\"MAE scores:\\n\", scores)"
      ]
    }
  ],
  "metadata": {
    "colab": {
      "provenance": []
    },
    "kernelspec": {
      "display_name": "Python 3",
      "name": "python3"
    },
    "language_info": {
      "codemirror_mode": {
        "name": "ipython",
        "version": 3
      },
      "file_extension": ".py",
      "mimetype": "text/x-python",
      "name": "python",
      "nbconvert_exporter": "python",
      "pygments_lexer": "ipython3",
      "version": "3.12.0"
    }
  },
  "nbformat": 4,
  "nbformat_minor": 0
}
